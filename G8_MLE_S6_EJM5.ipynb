{
 "cells": [
  {
   "cell_type": "code",
   "execution_count": 102,
   "id": "485c8599",
   "metadata": {},
   "outputs": [],
   "source": [
    "#0. CASO 5: CARGAR LIBRERIAS\n",
    "import pandas as pd\n",
    "from pycaret.classification import *\n",
    "import matplotlib.pyplot as plt\n",
    "import seaborn as sns\n",
    "import numpy as np"
   ]
  },
  {
   "cell_type": "code",
   "execution_count": 103,
   "id": "fd1a9ad0",
   "metadata": {},
   "outputs": [],
   "source": [
    "#1. CARGAR DE DATOS\n",
    "df = pd.read_csv(\"caso5_marketing_conversion.csv\")"
   ]
  },
  {
   "cell_type": "code",
   "execution_count": 104,
   "id": "883394db",
   "metadata": {},
   "outputs": [
    {
     "data": {
      "text/html": [
       "<div>\n",
       "<style scoped>\n",
       "    .dataframe tbody tr th:only-of-type {\n",
       "        vertical-align: middle;\n",
       "    }\n",
       "\n",
       "    .dataframe tbody tr th {\n",
       "        vertical-align: top;\n",
       "    }\n",
       "\n",
       "    .dataframe thead th {\n",
       "        text-align: right;\n",
       "    }\n",
       "</style>\n",
       "<table border=\"1\" class=\"dataframe\">\n",
       "  <thead>\n",
       "    <tr style=\"text-align: right;\">\n",
       "      <th></th>\n",
       "      <th>duracion_video_seg</th>\n",
       "      <th>plataforma</th>\n",
       "      <th>segmento</th>\n",
       "      <th>likes</th>\n",
       "      <th>comentarios</th>\n",
       "      <th>conversion</th>\n",
       "    </tr>\n",
       "  </thead>\n",
       "  <tbody>\n",
       "    <tr>\n",
       "      <th>0</th>\n",
       "      <td>46</td>\n",
       "      <td>Facebook</td>\n",
       "      <td>Adulto</td>\n",
       "      <td>524</td>\n",
       "      <td>91</td>\n",
       "      <td>0</td>\n",
       "    </tr>\n",
       "    <tr>\n",
       "      <th>1</th>\n",
       "      <td>90</td>\n",
       "      <td>Facebook</td>\n",
       "      <td>Senior</td>\n",
       "      <td>36</td>\n",
       "      <td>21</td>\n",
       "      <td>0</td>\n",
       "    </tr>\n",
       "    <tr>\n",
       "      <th>2</th>\n",
       "      <td>55</td>\n",
       "      <td>Facebook</td>\n",
       "      <td>Senior</td>\n",
       "      <td>588</td>\n",
       "      <td>198</td>\n",
       "      <td>0</td>\n",
       "    </tr>\n",
       "    <tr>\n",
       "      <th>3</th>\n",
       "      <td>77</td>\n",
       "      <td>Facebook</td>\n",
       "      <td>Senior</td>\n",
       "      <td>234</td>\n",
       "      <td>182</td>\n",
       "      <td>0</td>\n",
       "    </tr>\n",
       "    <tr>\n",
       "      <th>4</th>\n",
       "      <td>64</td>\n",
       "      <td>Facebook</td>\n",
       "      <td>Joven</td>\n",
       "      <td>970</td>\n",
       "      <td>161</td>\n",
       "      <td>0</td>\n",
       "    </tr>\n",
       "  </tbody>\n",
       "</table>\n",
       "</div>"
      ],
      "text/plain": [
       "   duracion_video_seg plataforma segmento  likes  comentarios  conversion\n",
       "0                  46   Facebook   Adulto    524           91           0\n",
       "1                  90   Facebook   Senior     36           21           0\n",
       "2                  55   Facebook   Senior    588          198           0\n",
       "3                  77   Facebook   Senior    234          182           0\n",
       "4                  64   Facebook    Joven    970          161           0"
      ]
     },
     "execution_count": 104,
     "metadata": {},
     "output_type": "execute_result"
    }
   ],
   "source": [
    "df.head()"
   ]
  },
  {
   "cell_type": "code",
   "execution_count": 105,
   "id": "e50aa3d7",
   "metadata": {},
   "outputs": [
    {
     "data": {
      "text/html": [
       "<div>\n",
       "<style scoped>\n",
       "    .dataframe tbody tr th:only-of-type {\n",
       "        vertical-align: middle;\n",
       "    }\n",
       "\n",
       "    .dataframe tbody tr th {\n",
       "        vertical-align: top;\n",
       "    }\n",
       "\n",
       "    .dataframe thead th {\n",
       "        text-align: right;\n",
       "    }\n",
       "</style>\n",
       "<table border=\"1\" class=\"dataframe\">\n",
       "  <thead>\n",
       "    <tr style=\"text-align: right;\">\n",
       "      <th></th>\n",
       "      <th>duracion_video_seg</th>\n",
       "      <th>likes</th>\n",
       "      <th>comentarios</th>\n",
       "      <th>conversion</th>\n",
       "    </tr>\n",
       "  </thead>\n",
       "  <tbody>\n",
       "    <tr>\n",
       "      <th>count</th>\n",
       "      <td>220.000000</td>\n",
       "      <td>220.000000</td>\n",
       "      <td>220.000000</td>\n",
       "      <td>220.000000</td>\n",
       "    </tr>\n",
       "    <tr>\n",
       "      <th>mean</th>\n",
       "      <td>61.422727</td>\n",
       "      <td>472.377273</td>\n",
       "      <td>106.563636</td>\n",
       "      <td>0.204545</td>\n",
       "    </tr>\n",
       "    <tr>\n",
       "      <th>std</th>\n",
       "      <td>29.219504</td>\n",
       "      <td>277.239389</td>\n",
       "      <td>60.974510</td>\n",
       "      <td>0.404289</td>\n",
       "    </tr>\n",
       "    <tr>\n",
       "      <th>min</th>\n",
       "      <td>10.000000</td>\n",
       "      <td>5.000000</td>\n",
       "      <td>0.000000</td>\n",
       "      <td>0.000000</td>\n",
       "    </tr>\n",
       "    <tr>\n",
       "      <th>25%</th>\n",
       "      <td>39.000000</td>\n",
       "      <td>234.750000</td>\n",
       "      <td>51.000000</td>\n",
       "      <td>0.000000</td>\n",
       "    </tr>\n",
       "    <tr>\n",
       "      <th>50%</th>\n",
       "      <td>61.500000</td>\n",
       "      <td>467.000000</td>\n",
       "      <td>106.500000</td>\n",
       "      <td>0.000000</td>\n",
       "    </tr>\n",
       "    <tr>\n",
       "      <th>75%</th>\n",
       "      <td>88.000000</td>\n",
       "      <td>696.750000</td>\n",
       "      <td>164.250000</td>\n",
       "      <td>0.000000</td>\n",
       "    </tr>\n",
       "    <tr>\n",
       "      <th>max</th>\n",
       "      <td>115.000000</td>\n",
       "      <td>998.000000</td>\n",
       "      <td>199.000000</td>\n",
       "      <td>1.000000</td>\n",
       "    </tr>\n",
       "  </tbody>\n",
       "</table>\n",
       "</div>"
      ],
      "text/plain": [
       "       duracion_video_seg       likes  comentarios  conversion\n",
       "count          220.000000  220.000000   220.000000  220.000000\n",
       "mean            61.422727  472.377273   106.563636    0.204545\n",
       "std             29.219504  277.239389    60.974510    0.404289\n",
       "min             10.000000    5.000000     0.000000    0.000000\n",
       "25%             39.000000  234.750000    51.000000    0.000000\n",
       "50%             61.500000  467.000000   106.500000    0.000000\n",
       "75%             88.000000  696.750000   164.250000    0.000000\n",
       "max            115.000000  998.000000   199.000000    1.000000"
      ]
     },
     "execution_count": 105,
     "metadata": {},
     "output_type": "execute_result"
    }
   ],
   "source": [
    "df.describe()"
   ]
  },
  {
   "cell_type": "code",
   "execution_count": 106,
   "id": "8a6d79d3",
   "metadata": {},
   "outputs": [
    {
     "data": {
      "image/png": "[encoded data removed]",
      "text/plain": [
       "<Figure size 800x400 with 1 Axes>"
      ]
     },
     "metadata": {},
     "output_type": "display_data"
    }
   ],
   "source": [
    "#2.ANALISIS EXPLORATORIO; CTR por plataforma\n",
    "df['ctr']=df['conversion']\n",
    "plt.figure(figsize=(8,4))\n",
    "sns.barplot(data=df,x='plataforma',y='ctr')\n",
    "plt.title(\"Tasa de conversión por plataforma\")\n",
    "plt.show()"
   ]
  },
  {
   "cell_type": "code",
   "execution_count": 107,
   "id": "79bcd18d",
   "metadata": {},
   "outputs": [],
   "source": [
    "#3.FEATURE ENGINEERING: ENGAGEMENT COMBINADO\n",
    "df['engagement'] = np.sqrt(df['likes']*0.7+df['comentarios']*1.5)"
   ]
  },
  {
   "cell_type": "code",
   "execution_count": 108,
   "id": "92631f29",
   "metadata": {},
   "outputs": [],
   "source": [
    "# Categorizar duración del video\n",
    "df['duracion_categoria'] = pd.cut(\n",
    "    df['duracion_video_seg'],\n",
    "    bins=[0, 30, 60, 120],\n",
    "    labels=['Corto', 'Medio', 'Largo']\n",
    ")"
   ]
  },
  {
   "cell_type": "code",
   "execution_count": 109,
   "id": "d1e011fc",
   "metadata": {},
   "outputs": [],
   "source": [
    "# Crear variable combinada de canal y segmento\n",
    "df['canal_segmento'] = df['plataforma'] + \"_\" + df['segmento']"
   ]
  },
  {
   "cell_type": "code",
   "execution_count": 111,
   "id": "04704d25",
   "metadata": {},
   "outputs": [],
   "source": [
    "#4.PYCARET: SETUP CON TÉNICAS AVANZADAS\n",
    "clf = setup(\n",
    "    data=df,\n",
    "    target='conversion',\n",
    "    session_id=2025,\n",
    "    categorical_features=['plataforma', 'segmento', 'duracion_categoria', 'canal_segmento'],\n",
    "    ignore_features=['ctr', 'duracion_video_seg'],\n",
    "    normalize=True,\n",
    "    feature_selection=True,\n",
    "    remove_multicollinearity=True,\n",
    "    transformation=True,\n",
    "    transformation_method='yeo-johnson',\n",
    "    verbose=False\n",
    ")"
   ]
  },
  {
   "cell_type": "code",
   "execution_count": 112,
   "id": "11dfc530",
   "metadata": {},
   "outputs": [
    {
     "data": {
      "text/html": [],
      "text/plain": [
       "<IPython.core.display.HTML object>"
      ]
     },
     "metadata": {},
     "output_type": "display_data"
    },
    {
     "data": {
      "text/html": [
       "<style type=\"text/css\">\n",
       "#T_ba7bc_row10_col0, #T_ba7bc_row10_col1, #T_ba7bc_row10_col2, #T_ba7bc_row10_col3, #T_ba7bc_row10_col4, #T_ba7bc_row10_col5, #T_ba7bc_row10_col6 {\n",
       "  background: yellow;\n",
       "}\n",
       "</style>\n",
       "<table id=\"T_ba7bc\">\n",
       "  <thead>\n",
       "    <tr>\n",
       "      <th class=\"blank level0\" >&nbsp;</th>\n",
       "      <th id=\"T_ba7bc_level0_col0\" class=\"col_heading level0 col0\" >Accuracy</th>\n",
       "      <th id=\"T_ba7bc_level0_col1\" class=\"col_heading level0 col1\" >AUC</th>\n",
       "      <th id=\"T_ba7bc_level0_col2\" class=\"col_heading level0 col2\" >Recall</th>\n",
       "      <th id=\"T_ba7bc_level0_col3\" class=\"col_heading level0 col3\" >Prec.</th>\n",
       "      <th id=\"T_ba7bc_level0_col4\" class=\"col_heading level0 col4\" >F1</th>\n",
       "      <th id=\"T_ba7bc_level0_col5\" class=\"col_heading level0 col5\" >Kappa</th>\n",
       "      <th id=\"T_ba7bc_level0_col6\" class=\"col_heading level0 col6\" >MCC</th>\n",
       "    </tr>\n",
       "    <tr>\n",
       "      <th class=\"index_name level0\" >Fold</th>\n",
       "      <th class=\"blank col0\" >&nbsp;</th>\n",
       "      <th class=\"blank col1\" >&nbsp;</th>\n",
       "      <th class=\"blank col2\" >&nbsp;</th>\n",
       "      <th class=\"blank col3\" >&nbsp;</th>\n",
       "      <th class=\"blank col4\" >&nbsp;</th>\n",
       "      <th class=\"blank col5\" >&nbsp;</th>\n",
       "      <th class=\"blank col6\" >&nbsp;</th>\n",
       "    </tr>\n",
       "  </thead>\n",
       "  <tbody>\n",
       "    <tr>\n",
       "      <th id=\"T_ba7bc_level0_row0\" class=\"row_heading level0 row0\" >0</th>\n",
       "      <td id=\"T_ba7bc_row0_col0\" class=\"data row0 col0\" >0.8125</td>\n",
       "      <td id=\"T_ba7bc_row0_col1\" class=\"data row0 col1\" >0.8021</td>\n",
       "      <td id=\"T_ba7bc_row0_col2\" class=\"data row0 col2\" >0.5000</td>\n",
       "      <td id=\"T_ba7bc_row0_col3\" class=\"data row0 col3\" >0.6667</td>\n",
       "      <td id=\"T_ba7bc_row0_col4\" class=\"data row0 col4\" >0.5714</td>\n",
       "      <td id=\"T_ba7bc_row0_col5\" class=\"data row0 col5\" >0.4545</td>\n",
       "      <td id=\"T_ba7bc_row0_col6\" class=\"data row0 col6\" >0.4623</td>\n",
       "    </tr>\n",
       "    <tr>\n",
       "      <th id=\"T_ba7bc_level0_row1\" class=\"row_heading level0 row1\" >1</th>\n",
       "      <td id=\"T_ba7bc_row1_col0\" class=\"data row1 col0\" >0.6250</td>\n",
       "      <td id=\"T_ba7bc_row1_col1\" class=\"data row1 col1\" >0.7813</td>\n",
       "      <td id=\"T_ba7bc_row1_col2\" class=\"data row1 col2\" >0.0000</td>\n",
       "      <td id=\"T_ba7bc_row1_col3\" class=\"data row1 col3\" >0.0000</td>\n",
       "      <td id=\"T_ba7bc_row1_col4\" class=\"data row1 col4\" >0.0000</td>\n",
       "      <td id=\"T_ba7bc_row1_col5\" class=\"data row1 col5\" >-0.2000</td>\n",
       "      <td id=\"T_ba7bc_row1_col6\" class=\"data row1 col6\" >-0.2182</td>\n",
       "    </tr>\n",
       "    <tr>\n",
       "      <th id=\"T_ba7bc_level0_row2\" class=\"row_heading level0 row2\" >2</th>\n",
       "      <td id=\"T_ba7bc_row2_col0\" class=\"data row2 col0\" >0.8125</td>\n",
       "      <td id=\"T_ba7bc_row2_col1\" class=\"data row2 col1\" >0.9231</td>\n",
       "      <td id=\"T_ba7bc_row2_col2\" class=\"data row2 col2\" >0.6667</td>\n",
       "      <td id=\"T_ba7bc_row2_col3\" class=\"data row2 col3\" >0.5000</td>\n",
       "      <td id=\"T_ba7bc_row2_col4\" class=\"data row2 col4\" >0.5714</td>\n",
       "      <td id=\"T_ba7bc_row2_col5\" class=\"data row2 col5\" >0.4545</td>\n",
       "      <td id=\"T_ba7bc_row2_col6\" class=\"data row2 col6\" >0.4623</td>\n",
       "    </tr>\n",
       "    <tr>\n",
       "      <th id=\"T_ba7bc_level0_row3\" class=\"row_heading level0 row3\" >3</th>\n",
       "      <td id=\"T_ba7bc_row3_col0\" class=\"data row3 col0\" >0.7500</td>\n",
       "      <td id=\"T_ba7bc_row3_col1\" class=\"data row3 col1\" >0.7821</td>\n",
       "      <td id=\"T_ba7bc_row3_col2\" class=\"data row3 col2\" >0.3333</td>\n",
       "      <td id=\"T_ba7bc_row3_col3\" class=\"data row3 col3\" >0.3333</td>\n",
       "      <td id=\"T_ba7bc_row3_col4\" class=\"data row3 col4\" >0.3333</td>\n",
       "      <td id=\"T_ba7bc_row3_col5\" class=\"data row3 col5\" >0.1795</td>\n",
       "      <td id=\"T_ba7bc_row3_col6\" class=\"data row3 col6\" >0.1795</td>\n",
       "    </tr>\n",
       "    <tr>\n",
       "      <th id=\"T_ba7bc_level0_row4\" class=\"row_heading level0 row4\" >4</th>\n",
       "      <td id=\"T_ba7bc_row4_col0\" class=\"data row4 col0\" >0.9333</td>\n",
       "      <td id=\"T_ba7bc_row4_col1\" class=\"data row4 col1\" >0.9444</td>\n",
       "      <td id=\"T_ba7bc_row4_col2\" class=\"data row4 col2\" >1.0000</td>\n",
       "      <td id=\"T_ba7bc_row4_col3\" class=\"data row4 col3\" >0.7500</td>\n",
       "      <td id=\"T_ba7bc_row4_col4\" class=\"data row4 col4\" >0.8571</td>\n",
       "      <td id=\"T_ba7bc_row4_col5\" class=\"data row4 col5\" >0.8148</td>\n",
       "      <td id=\"T_ba7bc_row4_col6\" class=\"data row4 col6\" >0.8292</td>\n",
       "    </tr>\n",
       "    <tr>\n",
       "      <th id=\"T_ba7bc_level0_row5\" class=\"row_heading level0 row5\" >5</th>\n",
       "      <td id=\"T_ba7bc_row5_col0\" class=\"data row5 col0\" >0.8667</td>\n",
       "      <td id=\"T_ba7bc_row5_col1\" class=\"data row5 col1\" >0.9444</td>\n",
       "      <td id=\"T_ba7bc_row5_col2\" class=\"data row5 col2\" >0.6667</td>\n",
       "      <td id=\"T_ba7bc_row5_col3\" class=\"data row5 col3\" >0.6667</td>\n",
       "      <td id=\"T_ba7bc_row5_col4\" class=\"data row5 col4\" >0.6667</td>\n",
       "      <td id=\"T_ba7bc_row5_col5\" class=\"data row5 col5\" >0.5833</td>\n",
       "      <td id=\"T_ba7bc_row5_col6\" class=\"data row5 col6\" >0.5833</td>\n",
       "    </tr>\n",
       "    <tr>\n",
       "      <th id=\"T_ba7bc_level0_row6\" class=\"row_heading level0 row6\" >6</th>\n",
       "      <td id=\"T_ba7bc_row6_col0\" class=\"data row6 col0\" >0.7333</td>\n",
       "      <td id=\"T_ba7bc_row6_col1\" class=\"data row6 col1\" >0.7083</td>\n",
       "      <td id=\"T_ba7bc_row6_col2\" class=\"data row6 col2\" >0.3333</td>\n",
       "      <td id=\"T_ba7bc_row6_col3\" class=\"data row6 col3\" >0.3333</td>\n",
       "      <td id=\"T_ba7bc_row6_col4\" class=\"data row6 col4\" >0.3333</td>\n",
       "      <td id=\"T_ba7bc_row6_col5\" class=\"data row6 col5\" >0.1667</td>\n",
       "      <td id=\"T_ba7bc_row6_col6\" class=\"data row6 col6\" >0.1667</td>\n",
       "    </tr>\n",
       "    <tr>\n",
       "      <th id=\"T_ba7bc_level0_row7\" class=\"row_heading level0 row7\" >7</th>\n",
       "      <td id=\"T_ba7bc_row7_col0\" class=\"data row7 col0\" >0.6667</td>\n",
       "      <td id=\"T_ba7bc_row7_col1\" class=\"data row7 col1\" >0.4167</td>\n",
       "      <td id=\"T_ba7bc_row7_col2\" class=\"data row7 col2\" >0.0000</td>\n",
       "      <td id=\"T_ba7bc_row7_col3\" class=\"data row7 col3\" >0.0000</td>\n",
       "      <td id=\"T_ba7bc_row7_col4\" class=\"data row7 col4\" >0.0000</td>\n",
       "      <td id=\"T_ba7bc_row7_col5\" class=\"data row7 col5\" >-0.1905</td>\n",
       "      <td id=\"T_ba7bc_row7_col6\" class=\"data row7 col6\" >-0.1961</td>\n",
       "    </tr>\n",
       "    <tr>\n",
       "      <th id=\"T_ba7bc_level0_row8\" class=\"row_heading level0 row8\" >8</th>\n",
       "      <td id=\"T_ba7bc_row8_col0\" class=\"data row8 col0\" >0.6667</td>\n",
       "      <td id=\"T_ba7bc_row8_col1\" class=\"data row8 col1\" >0.2917</td>\n",
       "      <td id=\"T_ba7bc_row8_col2\" class=\"data row8 col2\" >0.0000</td>\n",
       "      <td id=\"T_ba7bc_row8_col3\" class=\"data row8 col3\" >0.0000</td>\n",
       "      <td id=\"T_ba7bc_row8_col4\" class=\"data row8 col4\" >0.0000</td>\n",
       "      <td id=\"T_ba7bc_row8_col5\" class=\"data row8 col5\" >-0.1905</td>\n",
       "      <td id=\"T_ba7bc_row8_col6\" class=\"data row8 col6\" >-0.1961</td>\n",
       "    </tr>\n",
       "    <tr>\n",
       "      <th id=\"T_ba7bc_level0_row9\" class=\"row_heading level0 row9\" >9</th>\n",
       "      <td id=\"T_ba7bc_row9_col0\" class=\"data row9 col0\" >0.6667</td>\n",
       "      <td id=\"T_ba7bc_row9_col1\" class=\"data row9 col1\" >0.5417</td>\n",
       "      <td id=\"T_ba7bc_row9_col2\" class=\"data row9 col2\" >0.0000</td>\n",
       "      <td id=\"T_ba7bc_row9_col3\" class=\"data row9 col3\" >0.0000</td>\n",
       "      <td id=\"T_ba7bc_row9_col4\" class=\"data row9 col4\" >0.0000</td>\n",
       "      <td id=\"T_ba7bc_row9_col5\" class=\"data row9 col5\" >-0.1905</td>\n",
       "      <td id=\"T_ba7bc_row9_col6\" class=\"data row9 col6\" >-0.1961</td>\n",
       "    </tr>\n",
       "    <tr>\n",
       "      <th id=\"T_ba7bc_level0_row10\" class=\"row_heading level0 row10\" >Mean</th>\n",
       "      <td id=\"T_ba7bc_row10_col0\" class=\"data row10 col0\" >0.7533</td>\n",
       "      <td id=\"T_ba7bc_row10_col1\" class=\"data row10 col1\" >0.7136</td>\n",
       "      <td id=\"T_ba7bc_row10_col2\" class=\"data row10 col2\" >0.3500</td>\n",
       "      <td id=\"T_ba7bc_row10_col3\" class=\"data row10 col3\" >0.3250</td>\n",
       "      <td id=\"T_ba7bc_row10_col4\" class=\"data row10 col4\" >0.3333</td>\n",
       "      <td id=\"T_ba7bc_row10_col5\" class=\"data row10 col5\" >0.1882</td>\n",
       "      <td id=\"T_ba7bc_row10_col6\" class=\"data row10 col6\" >0.1877</td>\n",
       "    </tr>\n",
       "    <tr>\n",
       "      <th id=\"T_ba7bc_level0_row11\" class=\"row_heading level0 row11\" >Std</th>\n",
       "      <td id=\"T_ba7bc_row11_col0\" class=\"data row11 col0\" >0.0957</td>\n",
       "      <td id=\"T_ba7bc_row11_col1\" class=\"data row11 col1\" >0.2153</td>\n",
       "      <td id=\"T_ba7bc_row11_col2\" class=\"data row11 col2\" >0.3371</td>\n",
       "      <td id=\"T_ba7bc_row11_col3\" class=\"data row11 col3\" >0.2945</td>\n",
       "      <td id=\"T_ba7bc_row11_col4\" class=\"data row11 col4\" >0.3071</td>\n",
       "      <td id=\"T_ba7bc_row11_col5\" class=\"data row11 col5\" >0.3567</td>\n",
       "      <td id=\"T_ba7bc_row11_col6\" class=\"data row11 col6\" >0.3641</td>\n",
       "    </tr>\n",
       "  </tbody>\n",
       "</table>\n"
      ],
      "text/plain": [
       "<pandas.io.formats.style.Styler at 0x12c887b2950>"
      ]
     },
     "metadata": {},
     "output_type": "display_data"
    },
    {
     "data": {
      "text/html": [],
      "text/plain": [
       "<IPython.core.display.HTML object>"
      ]
     },
     "metadata": {},
     "output_type": "display_data"
    }
   ],
   "source": [
    "#CREAR MODELO\n",
    "rf_model = create_model('rf')"
   ]
  },
  {
   "cell_type": "code",
   "execution_count": 113,
   "id": "48b8348b",
   "metadata": {},
   "outputs": [],
   "source": [
    "# 🔍 Interpretar con SHAP manualmente\n",
    "X_train_transformed = get_config('X_train_transformed')\n",
    "explainer = shap.TreeExplainer(rf_model)\n",
    "shap_values = explainer.shap_values(X_train_transformed)"
   ]
  },
  {
   "cell_type": "code",
   "execution_count": 114,
   "id": "ed36b5b2",
   "metadata": {},
   "outputs": [],
   "source": [
    "# ✅ Ajustar dimensiones si hay columna extra (offset)\n",
    "if shap_values[1].shape[1] == X_train_transformed.shape[1] + 1:\n",
    "    shap_values_fixed = shap_values[1][:, :-1]\n",
    "else:\n",
    "    shap_values_fixed = shap_values[1]"
   ]
  },
  {
   "cell_type": "code",
   "execution_count": null,
   "id": "64273e96",
   "metadata": {},
   "outputs": [
    {
     "data": {
      "image/png": "[encoded data removed]",
      "text/plain": [
       "<Figure size 800x190 with 2 Axes>"
      ]
     },
     "metadata": {},
     "output_type": "display_data"
    }
   ],
   "source": [
    "# ✅ Alinear filas si hay desajuste\n",
    "min_rows = min(shap_values_fixed.shape[0], X_train_transformed.shape[0])\n",
    "shap.summary_plot(shap_values_fixed[:min_rows], X_train_transformed.iloc[:min_rows])"
   ]
  },
  {
   "cell_type": "code",
   "execution_count": 116,
   "id": "91f66d83",
   "metadata": {},
   "outputs": [
    {
     "name": "stdout",
     "output_type": "stream",
     "text": [
      "['likes']\n"
     ]
    }
   ],
   "source": [
    "X_train_transformed = get_config('X_train_transformed')\n",
    "print(X_train_transformed.columns.tolist())"
   ]
  }
 ],
 "metadata": {
  "kernelspec": {
   "display_name": "Python 3",
   "language": "python",
   "name": "python3"
  },
  "language_info": {
   "codemirror_mode": {
    "name": "ipython",
    "version": 3
   },
   "file_extension": ".py",
   "mimetype": "text/x-python",
   "name": "python",
   "nbconvert_exporter": "python",
   "pygments_lexer": "ipython3",
   "version": "3.11.0"
  }
 },
 "nbformat": 4,
 "nbformat_minor": 5
}
